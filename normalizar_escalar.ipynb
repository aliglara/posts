{
 "cells": [
  {
   "cell_type": "code",
   "execution_count": 1,
   "id": "thrown-nightlife",
   "metadata": {},
   "outputs": [],
   "source": [
    "import pandas as pd\n",
    "import numpy as np\n",
    "import seaborn as sns\n",
    "import matplotlib.pyplot as plt\n",
    "from matplotlib import rcParams\n",
    "from sklearn.preprocessing import MinMaxScaler, StandardScaler"
   ]
  },
  {
   "cell_type": "code",
   "execution_count": 2,
   "id": "threatened-grain",
   "metadata": {},
   "outputs": [],
   "source": [
    "pd.options.display.float_format = '{:,.2f}'.format\n",
    "params = {\n",
    "    'axes.labelsize': 'x-large',\n",
    "    'ytick.labelsize': 'large',\n",
    "    'xtick.labelsize': 'large'\n",
    "}\n",
    "\n",
    "rcParams.update(params)\n",
    "\n",
    "sns.set_style('whitegrid')"
   ]
  },
  {
   "cell_type": "markdown",
   "id": "joint-airport",
   "metadata": {},
   "source": [
    "## Datos\n",
    "\n",
    "Corresponde un proceso simulado de flujo de una mezcla de hidrocarburos que fluyen por una tuberia en la cual ocurre fugas del material"
   ]
  },
  {
   "cell_type": "code",
   "execution_count": 3,
   "id": "imported-divide",
   "metadata": {},
   "outputs": [],
   "source": [
    "main_folder = 'files/'\n",
    "\n",
    "df = pd.read_csv(main_folder + 'fuga_data.csv')"
   ]
  },
  {
   "cell_type": "code",
   "execution_count": 4,
   "id": "provincial-superintendent",
   "metadata": {},
   "outputs": [
    {
     "data": {
      "text/html": [
       "<div>\n",
       "<style scoped>\n",
       "    .dataframe tbody tr th:only-of-type {\n",
       "        vertical-align: middle;\n",
       "    }\n",
       "\n",
       "    .dataframe tbody tr th {\n",
       "        vertical-align: top;\n",
       "    }\n",
       "\n",
       "    .dataframe thead th {\n",
       "        text-align: right;\n",
       "    }\n",
       "</style>\n",
       "<table border=\"1\" class=\"dataframe\">\n",
       "  <thead>\n",
       "    <tr style=\"text-align: right;\">\n",
       "      <th></th>\n",
       "      <th>P1 (Pa)</th>\n",
       "      <th>T1 (C)</th>\n",
       "      <th>MF1 (kg/s)</th>\n",
       "      <th>P2 (Pa)</th>\n",
       "      <th>T2 (C)</th>\n",
       "      <th>MF2 (kg/s)</th>\n",
       "      <th>MF leak (kg/s)</th>\n",
       "      <th>stroke_level</th>\n",
       "      <th>caso</th>\n",
       "      <th>status_leak</th>\n",
       "      <th>Pos (m)</th>\n",
       "      <th>Dia (m)</th>\n",
       "      <th>x_L</th>\n",
       "      <th>t (s)</th>\n",
       "    </tr>\n",
       "  </thead>\n",
       "  <tbody>\n",
       "    <tr>\n",
       "      <th>0</th>\n",
       "      <td>568,097.30</td>\n",
       "      <td>-41.77</td>\n",
       "      <td>37.83</td>\n",
       "      <td>352,683.30</td>\n",
       "      <td>-41.82</td>\n",
       "      <td>37.83</td>\n",
       "      <td>0.00</td>\n",
       "      <td>30.00</td>\n",
       "      <td>1.00</td>\n",
       "      <td>0.00</td>\n",
       "      <td>0.00</td>\n",
       "      <td>0.00</td>\n",
       "      <td>0.00</td>\n",
       "      <td>1,620.44</td>\n",
       "    </tr>\n",
       "    <tr>\n",
       "      <th>1</th>\n",
       "      <td>568,098.20</td>\n",
       "      <td>-41.77</td>\n",
       "      <td>37.84</td>\n",
       "      <td>353,449.80</td>\n",
       "      <td>-41.82</td>\n",
       "      <td>37.70</td>\n",
       "      <td>0.00</td>\n",
       "      <td>30.00</td>\n",
       "      <td>1.00</td>\n",
       "      <td>0.00</td>\n",
       "      <td>0.00</td>\n",
       "      <td>0.00</td>\n",
       "      <td>0.00</td>\n",
       "      <td>1,620.94</td>\n",
       "    </tr>\n",
       "    <tr>\n",
       "      <th>2</th>\n",
       "      <td>568,783.20</td>\n",
       "      <td>-41.77</td>\n",
       "      <td>37.83</td>\n",
       "      <td>353,587.30</td>\n",
       "      <td>-41.82</td>\n",
       "      <td>37.67</td>\n",
       "      <td>0.00</td>\n",
       "      <td>30.00</td>\n",
       "      <td>1.00</td>\n",
       "      <td>0.00</td>\n",
       "      <td>0.00</td>\n",
       "      <td>0.00</td>\n",
       "      <td>0.00</td>\n",
       "      <td>1,621.67</td>\n",
       "    </tr>\n",
       "    <tr>\n",
       "      <th>3</th>\n",
       "      <td>569,367.30</td>\n",
       "      <td>-41.77</td>\n",
       "      <td>37.81</td>\n",
       "      <td>353,654.80</td>\n",
       "      <td>-41.82</td>\n",
       "      <td>37.67</td>\n",
       "      <td>0.00</td>\n",
       "      <td>30.00</td>\n",
       "      <td>1.00</td>\n",
       "      <td>0.00</td>\n",
       "      <td>0.00</td>\n",
       "      <td>0.00</td>\n",
       "      <td>0.00</td>\n",
       "      <td>1,622.10</td>\n",
       "    </tr>\n",
       "    <tr>\n",
       "      <th>4</th>\n",
       "      <td>569,933.50</td>\n",
       "      <td>-41.77</td>\n",
       "      <td>37.77</td>\n",
       "      <td>353,706.80</td>\n",
       "      <td>-41.82</td>\n",
       "      <td>37.69</td>\n",
       "      <td>0.00</td>\n",
       "      <td>30.00</td>\n",
       "      <td>1.00</td>\n",
       "      <td>0.00</td>\n",
       "      <td>0.00</td>\n",
       "      <td>0.00</td>\n",
       "      <td>0.00</td>\n",
       "      <td>1,622.64</td>\n",
       "    </tr>\n",
       "  </tbody>\n",
       "</table>\n",
       "</div>"
      ],
      "text/plain": [
       "     P1 (Pa)  T1 (C)  MF1 (kg/s)    P2 (Pa)  T2 (C)  MF2 (kg/s)  \\\n",
       "0 568,097.30  -41.77       37.83 352,683.30  -41.82       37.83   \n",
       "1 568,098.20  -41.77       37.84 353,449.80  -41.82       37.70   \n",
       "2 568,783.20  -41.77       37.83 353,587.30  -41.82       37.67   \n",
       "3 569,367.30  -41.77       37.81 353,654.80  -41.82       37.67   \n",
       "4 569,933.50  -41.77       37.77 353,706.80  -41.82       37.69   \n",
       "\n",
       "   MF leak (kg/s)  stroke_level  caso  status_leak  Pos (m)  Dia (m)  x_L  \\\n",
       "0            0.00         30.00  1.00         0.00     0.00     0.00 0.00   \n",
       "1            0.00         30.00  1.00         0.00     0.00     0.00 0.00   \n",
       "2            0.00         30.00  1.00         0.00     0.00     0.00 0.00   \n",
       "3            0.00         30.00  1.00         0.00     0.00     0.00 0.00   \n",
       "4            0.00         30.00  1.00         0.00     0.00     0.00 0.00   \n",
       "\n",
       "     t (s)  \n",
       "0 1,620.44  \n",
       "1 1,620.94  \n",
       "2 1,621.67  \n",
       "3 1,622.10  \n",
       "4 1,622.64  "
      ]
     },
     "execution_count": 4,
     "metadata": {},
     "output_type": "execute_result"
    }
   ],
   "source": [
    "df.head()"
   ]
  },
  {
   "cell_type": "code",
   "execution_count": 5,
   "id": "utility-backing",
   "metadata": {},
   "outputs": [],
   "source": [
    "df['t'] = pd.to_timedelta(df['t (s)'], unit='s')"
   ]
  },
  {
   "cell_type": "code",
   "execution_count": 6,
   "id": "listed-maker",
   "metadata": {},
   "outputs": [],
   "source": [
    "df.set_index('t', inplace=True)"
   ]
  },
  {
   "cell_type": "code",
   "execution_count": 7,
   "id": "oriented-darwin",
   "metadata": {},
   "outputs": [
    {
     "data": {
      "text/html": [
       "<div>\n",
       "<style scoped>\n",
       "    .dataframe tbody tr th:only-of-type {\n",
       "        vertical-align: middle;\n",
       "    }\n",
       "\n",
       "    .dataframe tbody tr th {\n",
       "        vertical-align: top;\n",
       "    }\n",
       "\n",
       "    .dataframe thead th {\n",
       "        text-align: right;\n",
       "    }\n",
       "</style>\n",
       "<table border=\"1\" class=\"dataframe\">\n",
       "  <thead>\n",
       "    <tr style=\"text-align: right;\">\n",
       "      <th></th>\n",
       "      <th>P1 (Pa)</th>\n",
       "      <th>T1 (C)</th>\n",
       "      <th>MF1 (kg/s)</th>\n",
       "      <th>P2 (Pa)</th>\n",
       "      <th>T2 (C)</th>\n",
       "      <th>MF2 (kg/s)</th>\n",
       "      <th>MF leak (kg/s)</th>\n",
       "      <th>stroke_level</th>\n",
       "      <th>caso</th>\n",
       "      <th>status_leak</th>\n",
       "      <th>Pos (m)</th>\n",
       "      <th>Dia (m)</th>\n",
       "      <th>x_L</th>\n",
       "      <th>t (s)</th>\n",
       "    </tr>\n",
       "    <tr>\n",
       "      <th>t</th>\n",
       "      <th></th>\n",
       "      <th></th>\n",
       "      <th></th>\n",
       "      <th></th>\n",
       "      <th></th>\n",
       "      <th></th>\n",
       "      <th></th>\n",
       "      <th></th>\n",
       "      <th></th>\n",
       "      <th></th>\n",
       "      <th></th>\n",
       "      <th></th>\n",
       "      <th></th>\n",
       "      <th></th>\n",
       "    </tr>\n",
       "  </thead>\n",
       "  <tbody>\n",
       "    <tr>\n",
       "      <th>0 days 00:27:00.442000</th>\n",
       "      <td>568,097.30</td>\n",
       "      <td>-41.77</td>\n",
       "      <td>37.83</td>\n",
       "      <td>352,683.30</td>\n",
       "      <td>-41.82</td>\n",
       "      <td>37.83</td>\n",
       "      <td>0.00</td>\n",
       "      <td>30.00</td>\n",
       "      <td>1.00</td>\n",
       "      <td>0.00</td>\n",
       "      <td>0.00</td>\n",
       "      <td>0.00</td>\n",
       "      <td>0.00</td>\n",
       "      <td>1,620.44</td>\n",
       "    </tr>\n",
       "    <tr>\n",
       "      <th>0 days 00:27:00.944731800</th>\n",
       "      <td>568,098.20</td>\n",
       "      <td>-41.77</td>\n",
       "      <td>37.84</td>\n",
       "      <td>353,449.80</td>\n",
       "      <td>-41.82</td>\n",
       "      <td>37.70</td>\n",
       "      <td>0.00</td>\n",
       "      <td>30.00</td>\n",
       "      <td>1.00</td>\n",
       "      <td>0.00</td>\n",
       "      <td>0.00</td>\n",
       "      <td>0.00</td>\n",
       "      <td>0.00</td>\n",
       "      <td>1,620.94</td>\n",
       "    </tr>\n",
       "    <tr>\n",
       "      <th>0 days 00:27:01.674772</th>\n",
       "      <td>568,783.20</td>\n",
       "      <td>-41.77</td>\n",
       "      <td>37.83</td>\n",
       "      <td>353,587.30</td>\n",
       "      <td>-41.82</td>\n",
       "      <td>37.67</td>\n",
       "      <td>0.00</td>\n",
       "      <td>30.00</td>\n",
       "      <td>1.00</td>\n",
       "      <td>0.00</td>\n",
       "      <td>0.00</td>\n",
       "      <td>0.00</td>\n",
       "      <td>0.00</td>\n",
       "      <td>1,621.67</td>\n",
       "    </tr>\n",
       "    <tr>\n",
       "      <th>0 days 00:27:02.095696</th>\n",
       "      <td>569,367.30</td>\n",
       "      <td>-41.77</td>\n",
       "      <td>37.81</td>\n",
       "      <td>353,654.80</td>\n",
       "      <td>-41.82</td>\n",
       "      <td>37.67</td>\n",
       "      <td>0.00</td>\n",
       "      <td>30.00</td>\n",
       "      <td>1.00</td>\n",
       "      <td>0.00</td>\n",
       "      <td>0.00</td>\n",
       "      <td>0.00</td>\n",
       "      <td>0.00</td>\n",
       "      <td>1,622.10</td>\n",
       "    </tr>\n",
       "    <tr>\n",
       "      <th>0 days 00:27:02.642430</th>\n",
       "      <td>569,933.50</td>\n",
       "      <td>-41.77</td>\n",
       "      <td>37.77</td>\n",
       "      <td>353,706.80</td>\n",
       "      <td>-41.82</td>\n",
       "      <td>37.69</td>\n",
       "      <td>0.00</td>\n",
       "      <td>30.00</td>\n",
       "      <td>1.00</td>\n",
       "      <td>0.00</td>\n",
       "      <td>0.00</td>\n",
       "      <td>0.00</td>\n",
       "      <td>0.00</td>\n",
       "      <td>1,622.64</td>\n",
       "    </tr>\n",
       "  </tbody>\n",
       "</table>\n",
       "</div>"
      ],
      "text/plain": [
       "                             P1 (Pa)  T1 (C)  MF1 (kg/s)    P2 (Pa)  T2 (C)  \\\n",
       "t                                                                             \n",
       "0 days 00:27:00.442000    568,097.30  -41.77       37.83 352,683.30  -41.82   \n",
       "0 days 00:27:00.944731800 568,098.20  -41.77       37.84 353,449.80  -41.82   \n",
       "0 days 00:27:01.674772    568,783.20  -41.77       37.83 353,587.30  -41.82   \n",
       "0 days 00:27:02.095696    569,367.30  -41.77       37.81 353,654.80  -41.82   \n",
       "0 days 00:27:02.642430    569,933.50  -41.77       37.77 353,706.80  -41.82   \n",
       "\n",
       "                           MF2 (kg/s)  MF leak (kg/s)  stroke_level  caso  \\\n",
       "t                                                                           \n",
       "0 days 00:27:00.442000          37.83            0.00         30.00  1.00   \n",
       "0 days 00:27:00.944731800       37.70            0.00         30.00  1.00   \n",
       "0 days 00:27:01.674772          37.67            0.00         30.00  1.00   \n",
       "0 days 00:27:02.095696          37.67            0.00         30.00  1.00   \n",
       "0 days 00:27:02.642430          37.69            0.00         30.00  1.00   \n",
       "\n",
       "                           status_leak  Pos (m)  Dia (m)  x_L    t (s)  \n",
       "t                                                                       \n",
       "0 days 00:27:00.442000            0.00     0.00     0.00 0.00 1,620.44  \n",
       "0 days 00:27:00.944731800         0.00     0.00     0.00 0.00 1,620.94  \n",
       "0 days 00:27:01.674772            0.00     0.00     0.00 0.00 1,621.67  \n",
       "0 days 00:27:02.095696            0.00     0.00     0.00 0.00 1,622.10  \n",
       "0 days 00:27:02.642430            0.00     0.00     0.00 0.00 1,622.64  "
      ]
     },
     "execution_count": 7,
     "metadata": {},
     "output_type": "execute_result"
    }
   ],
   "source": [
    "df.head()"
   ]
  },
  {
   "cell_type": "markdown",
   "id": "overhead-creation",
   "metadata": {},
   "source": [
    "### Simple grafico de comparacion"
   ]
  },
  {
   "cell_type": "code",
   "execution_count": 8,
   "id": "civil-belle",
   "metadata": {},
   "outputs": [
    {
     "data": {
      "image/png": "[encoded data removed]",
      "text/plain": [
       "<Figure size 864x432 with 1 Axes>"
      ]
     },
     "metadata": {},
     "output_type": "display_data"
    }
   ],
   "source": [
    "plt.subplots(figsize=(12, 6))\n",
    "_ = sns.violinplot(data=df[['P1 (Pa)','MF1 (kg/s)', 'P2 (Pa)', 'MF2 (kg/s)']])"
   ]
  },
  {
   "cell_type": "markdown",
   "id": "compliant-cylinder",
   "metadata": {},
   "source": [
    "Debido a la diferencia en los ordenes de magnitud que cada uno de los features, la comparacion grafica en unidades de ingenieria no es util"
   ]
  },
  {
   "cell_type": "markdown",
   "id": "loaded-dispatch",
   "metadata": {},
   "source": [
    "## Normalizacion\n",
    "\n",
    "Cuando se habla de normalizar, lo que se desea es escalar todos los valores entre 0 y 1. Y lo que se necesita es establecer cuales son los valores minimo y maximo. Existen varias opciones aca les presento como usar el objeto **MinMaxScaler** disponible **sklearn**"
   ]
  },
  {
   "cell_type": "code",
   "execution_count": 9,
   "id": "fifty-projector",
   "metadata": {},
   "outputs": [],
   "source": [
    "valores = df[['P1 (Pa)','MF1 (kg/s)', 'P2 (Pa)', 'MF2 (kg/s)']].values"
   ]
  },
  {
   "cell_type": "code",
   "execution_count": 10,
   "id": "alert-joining",
   "metadata": {},
   "outputs": [],
   "source": [
    "scaler = MinMaxScaler(feature_range=(0, 1))\n",
    "scaler = scaler.fit(valores)"
   ]
  },
  {
   "cell_type": "code",
   "execution_count": 11,
   "id": "usual-insider",
   "metadata": {},
   "outputs": [
    {
     "data": {
      "text/html": [
       "<div>\n",
       "<style scoped>\n",
       "    .dataframe tbody tr th:only-of-type {\n",
       "        vertical-align: middle;\n",
       "    }\n",
       "\n",
       "    .dataframe tbody tr th {\n",
       "        vertical-align: top;\n",
       "    }\n",
       "\n",
       "    .dataframe thead th {\n",
       "        text-align: right;\n",
       "    }\n",
       "</style>\n",
       "<table border=\"1\" class=\"dataframe\">\n",
       "  <thead>\n",
       "    <tr style=\"text-align: right;\">\n",
       "      <th></th>\n",
       "      <th>P1 (Pa)</th>\n",
       "      <th>MF1 (kg/s)</th>\n",
       "      <th>P2 (Pa)</th>\n",
       "      <th>MF2 (kg/s)</th>\n",
       "    </tr>\n",
       "  </thead>\n",
       "  <tbody>\n",
       "    <tr>\n",
       "      <th>Min</th>\n",
       "      <td>567,569.70</td>\n",
       "      <td>36.79</td>\n",
       "      <td>352,683.30</td>\n",
       "      <td>36.79</td>\n",
       "    </tr>\n",
       "    <tr>\n",
       "      <th>Max</th>\n",
       "      <td>1,046,568.00</td>\n",
       "      <td>250.27</td>\n",
       "      <td>400,311.70</td>\n",
       "      <td>250.37</td>\n",
       "    </tr>\n",
       "  </tbody>\n",
       "</table>\n",
       "</div>"
      ],
      "text/plain": [
       "         P1 (Pa)  MF1 (kg/s)    P2 (Pa)  MF2 (kg/s)\n",
       "Min   567,569.70       36.79 352,683.30       36.79\n",
       "Max 1,046,568.00      250.27 400,311.70      250.37"
      ]
     },
     "execution_count": 11,
     "metadata": {},
     "output_type": "execute_result"
    }
   ],
   "source": [
    "pd.DataFrame(np.vstack((scaler.data_min_, scaler.data_max_)),\n",
    "             index=['Min', 'Max'],\n",
    "             columns=['P1 (Pa)','MF1 (kg/s)', 'P2 (Pa)', 'MF2 (kg/s)'])"
   ]
  },
  {
   "cell_type": "markdown",
   "id": "statistical-princeton",
   "metadata": {},
   "source": [
    "### Ejemplo de normalización\n",
    "\n",
    "Para normalizar los datos, se usa la función ''transform''"
   ]
  },
  {
   "cell_type": "code",
   "execution_count": 12,
   "id": "laughing-adventure",
   "metadata": {},
   "outputs": [],
   "source": [
    "normalizados = scaler.transform(valores)\n",
    "df_normalizados = pd.DataFrame(normalizados,\n",
    "                              index=df.index,\n",
    "                              columns=['P1 (Pa)','MF1 (kg/s)', 'P2 (Pa)', 'MF2 (kg/s)'])"
   ]
  },
  {
   "cell_type": "code",
   "execution_count": 13,
   "id": "italian-vehicle",
   "metadata": {},
   "outputs": [
    {
     "data": {
      "image/png": "[encoded data removed]",
      "text/plain": [
       "<Figure size 864x432 with 1 Axes>"
      ]
     },
     "metadata": {},
     "output_type": "display_data"
    }
   ],
   "source": [
    "plt.subplots(figsize=(12, 6))\n",
    "_ = sns.violinplot(data=df_normalizados)"
   ]
  },
  {
   "cell_type": "code",
   "execution_count": 14,
   "id": "premier-airline",
   "metadata": {},
   "outputs": [
    {
     "name": "stdout",
     "output_type": "stream",
     "text": [
      "[0.00110147 0.00486725 0.         0.00488827]\n",
      "[0.00110334 0.00490781 0.01609334 0.00428855]\n",
      "[0.00253341 0.00487591 0.01898027 0.00413722]\n",
      "[0.00375283 0.0047574  0.02039749 0.00415282]\n",
      "[0.00493488 0.00458174 0.02148928 0.00423124]\n",
      "[0.00543655 0.00442688 0.02182731 0.00432741]\n",
      "[0.00530733 0.00429759 0.02145989 0.00440204]\n",
      "[0.00477183 0.00418887 0.02054237 0.00442512]\n",
      "[0.00409834 0.00409813 0.0193729  0.0043835 ]\n",
      "[0.00350857 0.00402459 0.01828531 0.0042826 ]\n"
     ]
    }
   ],
   "source": [
    "for i in range(10):\n",
    "    print(normalizados[i, :])"
   ]
  },
  {
   "cell_type": "markdown",
   "id": "romantic-christian",
   "metadata": {},
   "source": [
    "### Ejemplo de inversión\n",
    "\n",
    "Los datos normalizados pueden ser facilmente escalados, a las unidades de ingeniería, empleando la función 'inverse_transform'"
   ]
  },
  {
   "cell_type": "code",
   "execution_count": 15,
   "id": "signed-laugh",
   "metadata": {},
   "outputs": [
    {
     "name": "stdout",
     "output_type": "stream",
     "text": [
      "[5.680973e+05 3.783052e+01 3.526833e+05 3.783052e+01]\n",
      "[5.680982e+05 3.783918e+01 3.534498e+05 3.770243e+01]\n",
      "[5.687832e+05 3.783237e+01 3.535873e+05 3.767011e+01]\n",
      "[5.693673e+05 3.780707e+01 3.536548e+05 3.767344e+01]\n",
      "[5.699335e+05 3.776957e+01 3.537068e+05 3.769019e+01]\n",
      "[5.701738e+05 3.773651e+01 3.537229e+05 3.771073e+01]\n",
      "[5.701119e+05 3.770891e+01 3.537054e+05 3.772667e+01]\n",
      "[5.698554e+05 3.768570e+01 3.536617e+05 3.773160e+01]\n",
      "[5.695328e+05 3.766633e+01 3.536060e+05 3.772271e+01]\n",
      "[5.692503e+05 3.765063e+01 3.535542e+05 3.770116e+01]\n"
     ]
    }
   ],
   "source": [
    "unidades_ing = scaler.inverse_transform(normalizados)\n",
    "for i in range(10):\n",
    "    print(unidades_ing[i,:])"
   ]
  },
  {
   "cell_type": "markdown",
   "id": "indonesian-thailand",
   "metadata": {},
   "source": [
    "## Estandarizacion\n",
    "\n",
    "En este proceso se escalan los valores de forma tal que la media sea igual a cero y la desviacion estandar igual a 1. A diferencia que la normalizacion, ésta supone que las observaciones siguen una distribución Gaussiana.\n",
    "\n",
    "Por esta razón, se debe verificar y transformar los datos (de ser necesario) antes de aplicar.\n"
   ]
  },
  {
   "cell_type": "markdown",
   "id": "comfortable-vaccine",
   "metadata": {},
   "source": [
    "### Ejemplo de estandarización\n",
    "\n",
    "Para ejemplo de estandarización usaremos solo los datos de P2"
   ]
  },
  {
   "cell_type": "code",
   "execution_count": 16,
   "id": "productive-twins",
   "metadata": {},
   "outputs": [],
   "source": [
    "valores2 = df['P2 (Pa)'].values"
   ]
  },
  {
   "cell_type": "markdown",
   "id": "accessible-stack",
   "metadata": {},
   "source": [
    "Cuando se trabaja con una sola serie, los valores son extraidos como un numpy array de una fila"
   ]
  },
  {
   "cell_type": "code",
   "execution_count": 17,
   "id": "entertaining-celebrity",
   "metadata": {},
   "outputs": [
    {
     "data": {
      "text/plain": [
       "(6381,)"
      ]
     },
     "execution_count": 17,
     "metadata": {},
     "output_type": "execute_result"
    }
   ],
   "source": [
    "valores2.shape"
   ]
  },
  {
   "cell_type": "markdown",
   "id": "intellectual-logging",
   "metadata": {},
   "source": [
    "Sin embargo, para usar los métodos de normalización/estandarización es necesario que sean reformateado a una matrix de una columna"
   ]
  },
  {
   "cell_type": "code",
   "execution_count": 18,
   "id": "hybrid-intention",
   "metadata": {},
   "outputs": [],
   "source": [
    "valores2 = valores2.reshape((-1,1))"
   ]
  },
  {
   "cell_type": "code",
   "execution_count": 19,
   "id": "filled-vatican",
   "metadata": {},
   "outputs": [
    {
     "data": {
      "text/plain": [
       "(6381, 1)"
      ]
     },
     "execution_count": 19,
     "metadata": {},
     "output_type": "execute_result"
    }
   ],
   "source": [
    "valores2.shape"
   ]
  },
  {
   "cell_type": "code",
   "execution_count": 20,
   "id": "domestic-richardson",
   "metadata": {},
   "outputs": [],
   "source": [
    "scaler2 = StandardScaler()\n",
    "scaler2 = scaler2.fit(valores2)"
   ]
  },
  {
   "cell_type": "markdown",
   "id": "criminal-contrast",
   "metadata": {},
   "source": [
    "Se puede conocer los estadísticos de media y desviación estandar directamente de los atributos de las función"
   ]
  },
  {
   "cell_type": "code",
   "execution_count": 21,
   "id": "ongoing-adapter",
   "metadata": {},
   "outputs": [
    {
     "name": "stdout",
     "output_type": "stream",
     "text": [
      "La media de los datos es 373,432.22 Pa\n",
      "Mientras que la desviación estándar es 15,657.25 Pa\n"
     ]
    }
   ],
   "source": [
    "print('La media de los datos es {:,.2f} Pa'.format(scaler2.mean_[0]))\n",
    "print('Mientras que la desviación estándar es {:,.2f} Pa'.format(np.sqrt(scaler2.var_[0])))"
   ]
  },
  {
   "cell_type": "markdown",
   "id": "immune-projection",
   "metadata": {},
   "source": [
    "### Ejemplo de estandarización\n"
   ]
  },
  {
   "cell_type": "code",
   "execution_count": 22,
   "id": "positive-canberra",
   "metadata": {},
   "outputs": [
    {
     "name": "stdout",
     "output_type": "stream",
     "text": [
      "[-1.32519564]\n",
      "[-1.27624067]\n",
      "[-1.2674588]\n",
      "[-1.26314769]\n",
      "[-1.25982655]\n"
     ]
    }
   ],
   "source": [
    "estandarizados = scaler2.transform(valores2)\n",
    "for i in range(5):\n",
    "    print(estandarizados[i])"
   ]
  },
  {
   "cell_type": "markdown",
   "id": "chicken-center",
   "metadata": {},
   "source": [
    "Para regresar a la escala de ingeniería"
   ]
  },
  {
   "cell_type": "code",
   "execution_count": 23,
   "id": "norwegian-butler",
   "metadata": {},
   "outputs": [
    {
     "name": "stdout",
     "output_type": "stream",
     "text": [
      "[352683.3]\n",
      "[353449.8]\n",
      "[353587.3]\n",
      "[353654.8]\n",
      "[353706.8]\n"
     ]
    }
   ],
   "source": [
    "estandarizados_back = scaler2.inverse_transform(estandarizados)\n",
    "for i in range(5):\n",
    "    print(estandarizados_back[i])"
   ]
  },
  {
   "cell_type": "code",
   "execution_count": 24,
   "id": "intense-academy",
   "metadata": {},
   "outputs": [
    {
     "data": {
      "text/plain": [
       "array([[352683.3],\n",
       "       [353449.8],\n",
       "       [353587.3],\n",
       "       [353654.8],\n",
       "       [353706.8]])"
      ]
     },
     "execution_count": 24,
     "metadata": {},
     "output_type": "execute_result"
    }
   ],
   "source": [
    "valores2[:5]"
   ]
  },
  {
   "cell_type": "code",
   "execution_count": 25,
   "id": "cooperative-still",
   "metadata": {},
   "outputs": [
    {
     "data": {
      "text/plain": [
       "Text(0.5, 0, 'P2 estandarizados')"
      ]
     },
     "execution_count": 25,
     "metadata": {},
     "output_type": "execute_result"
    },
    {
     "data": {
      "image/png": "[encoded data removed]",
      "text/plain": [
       "<Figure size 504x432 with 1 Axes>"
      ]
     },
     "metadata": {},
     "output_type": "display_data"
    }
   ],
   "source": [
    "f, ax = plt.subplots(figsize=(7, 6))\n",
    "_ = sns.violinplot(data=estandarizados)\n",
    "ax.set_xlabel('P2 estandarizados')"
   ]
  },
  {
   "cell_type": "code",
   "execution_count": null,
   "id": "political-pathology",
   "metadata": {},
   "outputs": [],
   "source": []
  }
 ],
 "metadata": {
  "kernelspec": {
   "display_name": "Python 3 (tensorflow)",
   "language": "python",
   "name": "tensorflow"
  },
  "language_info": {
   "codemirror_mode": {
    "name": "ipython",
    "version": 3
   },
   "file_extension": ".py",
   "mimetype": "text/x-python",
   "name": "python",
   "nbconvert_exporter": "python",
   "pygments_lexer": "ipython3",
   "version": "3.8.5"
  },
  "toc": {
   "base_numbering": 1,
   "nav_menu": {},
   "number_sections": true,
   "sideBar": true,
   "skip_h1_title": true,
   "title_cell": "Table of Contents",
   "title_sidebar": "Contents",
   "toc_cell": false,
   "toc_position": {},
   "toc_section_display": true,
   "toc_window_display": false
  }
 },
 "nbformat": 4,
 "nbformat_minor": 5
}
