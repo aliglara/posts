{
 "cells": [
  {
   "cell_type": "code",
   "execution_count": 1,
   "metadata": {},
   "outputs": [
    {
     "name": "stderr",
     "output_type": "stream",
     "text": [
      "/Users/aliglara/miniconda3/lib/python3.8/site-packages/scipy/__init__.py:146: UserWarning: A NumPy version >=1.16.5 and <1.23.0 is required for this version of SciPy (detected version 1.23.1\n",
      "  warnings.warn(f\"A NumPy version >={np_minversion} and <{np_maxversion}\"\n"
     ]
    }
   ],
   "source": [
    "# Librerias tipicas para calculos y visualizaciones\n",
    "import numpy as np\n",
    "import matplotlib.pyplot as plt\n",
    "\n",
    "# Para resolucion numerica\n",
    "from scipy.optimize import least_squares\n",
    "\n",
    "# Para matematica simbolica\n",
    "import sympy as sp\n",
    "from sympy.utilities.lambdify import lambdify\n",
    "from sympy import print_latex\n",
    "\n",
    "plt.style.use('fivethirtyeight')\n",
    "sp.interactive.init_printing(use_latex='mathjax')"
   ]
  },
  {
   "cell_type": "markdown",
   "metadata": {},
   "source": [
    "# Enunciado\n",
    "\n",
    "La reacción de síntesis catalítica de metanol puede ser representada mediante la siguiente ecuación \n",
    "\n",
    "\\begin{equation*}\n",
    "\\text{CO(g)} + 2\\text{H}_2\\text{(g}) = \\text{CH}_3\\text{OH(g)}\n",
    "\\end{equation*}\n",
    "\n",
    "Si se cuenta con una alimentación equimolar de los reactantes e igual a 5 moles a 200C. ¿Cuál será las fracciones molares si el sistema opera adiabáticamente a 10 bar y el catalizador permite que el sistema alcance el equilibrio sin que exista alguna otra reacción no deseada?"
   ]
  },
  {
   "cell_type": "markdown",
   "metadata": {},
   "source": [
    "## Datos del problema"
   ]
  },
  {
   "cell_type": "code",
   "execution_count": 2,
   "metadata": {},
   "outputs": [],
   "source": [
    "# Propiedades fisicoquimicas de los reactivos\n",
    "# Calor y energia libre de Gibbs estandar de reaccion\n",
    "# Coeficientes A y B para el calculo de las capacidades \n",
    "# calorificas a presion constante de los compuestos.\n",
    "\n",
    "#                DHf(298)   DGf(298)  A     B x 10^2\n",
    "#                 J/mol     J/mol\n",
    "data = np.array([[-110530, -137160, 30.87, -1.285],\n",
    "                 [0, 0, 27.14, 0.927],\n",
    "                 [-200940, -162240, 21.15, 7.092]])\n",
    "\n",
    "# Propiedades de operacion del reactor\n",
    "TempInicial = 200 + 273.15       # Temperatura, K\n",
    "PresionOp = 10                   # Presion, bar\n",
    "\n",
    "# Datos de estado estandar para los calculos de equilibrio\n",
    "Testandar = 298.15 \n",
    "R = 8.314\n",
    "\n",
    "# Datos de la reaccion\n",
    "# Coeficientes estequimetricos y moles alimentados de los reactivos\n",
    "#                      CO  H2 CH3OH\n",
    "CoefMatrix = np.array([-1, -2, 1])  # negativo = reactivo, positivo = producto\n",
    "molesAlime = np.array([5, 5, 0])"
   ]
  },
  {
   "cell_type": "markdown",
   "metadata": {},
   "source": [
    "## Solucion\n",
    "\n",
    "### Balance de moles\n",
    "\n",
    "$$ n_i = n_{i0} + \\nu_i\\:\\xi $$"
   ]
  },
  {
   "cell_type": "code",
   "execution_count": 3,
   "metadata": {},
   "outputs": [],
   "source": [
    "xi, t, Tout = sp.symbols(\"xi, t, Tout\", real=True)\n",
    "\n",
    "ni = molesAlime + CoefMatrix * xi\n",
    "nTotal = np.sum(ni)\n",
    "yi = ni / nTotal"
   ]
  },
  {
   "cell_type": "code",
   "execution_count": 4,
   "metadata": {},
   "outputs": [
    {
     "name": "stdout",
     "output_type": "stream",
     "text": [
      "    CO          H2        CH3OH\n"
     ]
    },
    {
     "data": {
      "text/latex": [
       "$\\displaystyle \\left[ \\frac{5 - \\xi}{10 - 2 \\xi}, \\  \\frac{5 - 2 \\xi}{10 - 2 \\xi}, \\  \\frac{\\xi}{10 - 2 \\xi}\\right]$"
      ],
      "text/plain": [
       "⎡ 5 - ξ    5 - 2⋅ξ      ξ    ⎤\n",
       "⎢────────, ────────, ────────⎥\n",
       "⎣10 - 2⋅ξ  10 - 2⋅ξ  10 - 2⋅ξ⎦"
      ]
     },
     "metadata": {},
     "output_type": "display_data"
    }
   ],
   "source": [
    "print('    CO          H2        CH3OH')\n",
    "display([yi[n] for n in np.arange(3)])"
   ]
  },
  {
   "cell_type": "markdown",
   "metadata": {},
   "source": [
    "El grado de avance de esta reaccion debe satisfacer la restriccion que los moles finales deben ser iguales o mayores que cero, lo cual ocurre cuando"
   ]
  },
  {
   "cell_type": "code",
   "execution_count": 6,
   "metadata": {},
   "outputs": [
    {
     "data": {
      "text/latex": [
       "$\\displaystyle 0 \\leq \\xi \\wedge \\xi \\leq \\frac{5}{2}$"
      ],
      "text/plain": [
       "0 ≤ ξ ∧ ξ ≤ 5/2"
      ]
     },
     "metadata": {},
     "output_type": "display_data"
    }
   ],
   "source": [
    "sol = sp.solve([ni[n] >= 0 for n in np.arange(3)])\n",
    "display(sol)"
   ]
  },
  {
   "cell_type": "markdown",
   "metadata": {},
   "source": [
    "## Constante de equilibrio químico\n",
    "\n",
    "### En funcion de la actividad de cada componente\n",
    "\n",
    "Conociendo las expresiones de las composiciones que se alcanzarian en el equilibrio, se puede escribir la constante de equilibrio, K\n",
    "\n",
    "$$ K(y) = \\prod {a_i^{\\nu_i}} = \\prod {\\frac{y_i\\:P^{\\nu_i}}{P^\\circ}} $$"
   ]
  },
  {
   "cell_type": "code",
   "execution_count": 9,
   "metadata": {},
   "outputs": [
    {
     "data": {
      "text/latex": [
       "$\\displaystyle \\frac{\\xi \\left(10 - 2 \\xi\\right)^{2}}{100 \\left(5 - 2 \\xi\\right)^{2} \\cdot \\left(5 - \\xi\\right)}$"
      ],
      "text/plain": [
       "                2     \n",
       "    ξ⋅(10 - 2⋅ξ)      \n",
       "──────────────────────\n",
       "             2        \n",
       "100⋅(5 - 2⋅ξ) ⋅(5 - ξ)"
      ]
     },
     "metadata": {},
     "output_type": "display_data"
    }
   ],
   "source": [
    "Ky = np.prod((yi * PresionOp)**CoefMatrix) \n",
    "display(Ky)"
   ]
  },
  {
   "cell_type": "markdown",
   "metadata": {},
   "source": [
    "### En funcion de la Energia Libre de Gibbs\n",
    "\n",
    "Para conocer el valor del grado de avance se requiere conocer el valor de la constante de equilibrio, como una funcion de la temperatura de reaccion\n",
    "\n",
    "$$ K(T) = \\exp{\\frac{-\\Delta G^\\circ(T)}{R\\,T}} $$\n",
    "\n",
    "Para lo cual es necesario resolver empleando el método de van't Hoff:\n",
    "\n",
    "$$\n",
    "\\begin{align*}\n",
    "&\\ln K(T) = \\ln K(T^\\circ) + \\frac{1}{R}\\int_{T^\\circ}^{T} \\frac{\\Delta H^\\circ(t)}{t^2} \\, dt\\\\\n",
    "&\\Delta H^\\circ(T) = \\Delta H^\\circ(T^\\circ) + \\int_{T^\\circ}^{T} {\\Delta C_p^\\circ(t) \\, dt} \\\\\n",
    "&\\Delta C_p^\\circ(t) = \\sum{\\nu_i\\,C_{p,i}^\\circ(T)} \\equiv \\sum{\\nu_i\\,A_i} + \\sum{\\nu_i\\,B_i}\\,T = \\Delta A + \\Delta B\\,T\n",
    "\\end{align*}\n",
    "$$\n",
    "\n",
    "De esta manera, los calculos necesarios serian:"
   ]
  },
  {
   "cell_type": "code",
   "execution_count": 13,
   "metadata": {},
   "outputs": [],
   "source": [
    "DA = np.sum(data[:, 2] * CoefMatrix)\n",
    "DB = np.sum(data[:, 3] * 1e-2 * CoefMatrix)\n",
    "\n",
    "DHT0 = np.sum(data[:, 0] * CoefMatrix)\n",
    "DGT0 = np.sum(data[:, 1] * CoefMatrix)\n",
    "\n",
    "KT0 = np.exp(-DGT0/R/Testandar)"
   ]
  },
  {
   "cell_type": "code",
   "execution_count": 14,
   "metadata": {},
   "outputs": [
    {
     "name": "stdout",
     "output_type": "stream",
     "text": [
      "El calor de reacción a 298.15 K es igual a -90410.0 J/mol\n",
      "El DG de reaccion a 298.15 K es igual a -25080.0 J/mol\n",
      "La constante de equilibrio químico a 298.15 K es igual a 2.478e+04\n"
     ]
    }
   ],
   "source": [
    "print('El calor de reacción a 298.15 K es igual a {:.1f} J/mol'.format(DHT0))\n",
    "print('El DG de reaccion a 298.15 K es igual a {:.1f} J/mol'.format(DGT0))\n",
    "print('La constante de equilibrio químico a 298.15 K es igual a {:.3e}'.format(KT0))"
   ]
  },
  {
   "cell_type": "markdown",
   "metadata": {},
   "source": [
    "La expresión se Van't Hoff es una función que depende la temperatura, por lo cual se necesita una función de T"
   ]
  },
  {
   "cell_type": "code",
   "execution_count": 15,
   "metadata": {},
   "outputs": [],
   "source": [
    "# Se definen dos variables para la expresion de van't Hoff\n",
    "# t: variable de integracion\n",
    "# T: variable que indica como cambia la temperatura dentro del reactor\n",
    "t, T = sp.symbols(\"t, T\", real=True)"
   ]
  },
  {
   "cell_type": "markdown",
   "metadata": {},
   "source": [
    "Expresiones para evaluar las energias a cualquier temperatura T, empleando el modulo _integrate_ de _Sympy_ "
   ]
  },
  {
   "cell_type": "code",
   "execution_count": 18,
   "metadata": {},
   "outputs": [],
   "source": [
    "DHt = DHT0 + sp.integrate(DA + DB * t, (t, 298.15, T))\n",
    "\n",
    "lnKe = np.log(KT0) + 1/R * (sp.integrate(DHt / (T**2), (T, 298.15, T)))\n",
    "\n",
    "Ke = sp.exp(lnKe)"
   ]
  },
  {
   "cell_type": "code",
   "execution_count": 19,
   "metadata": {},
   "outputs": [
    {
     "name": "stdout",
     "output_type": "stream",
     "text": [
      "\\frac{8494102314.01275 e^{0.00392290113062305 T + \\frac{8928.03211147913}{T}}}{T^{7.69785903295646}}\n"
     ]
    }
   ],
   "source": [
    "print_latex(Ke)"
   ]
  },
  {
   "cell_type": "code",
   "execution_count": null,
   "metadata": {},
   "outputs": [],
   "source": []
  }
 ],
 "metadata": {
  "kernelspec": {
   "display_name": "Python 3.8.13 ('base')",
   "language": "python",
   "name": "python3"
  },
  "language_info": {
   "codemirror_mode": {
    "name": "ipython",
    "version": 3
   },
   "file_extension": ".py",
   "mimetype": "text/x-python",
   "name": "python",
   "nbconvert_exporter": "python",
   "pygments_lexer": "ipython3",
   "version": "3.8.13"
  },
  "orig_nbformat": 4,
  "vscode": {
   "interpreter": {
    "hash": "1c30720ad38499d80e168609025d05c859feb4a0331a899893557630c803b723"
   }
  }
 },
 "nbformat": 4,
 "nbformat_minor": 2
}
