{
 "cells": [
  {
   "cell_type": "code",
   "execution_count": 43,
   "metadata": {},
   "outputs": [],
   "source": [
    "# Librerias tipicas para calculos y visualizaciones\n",
    "import numpy as np\n",
    "import matplotlib.pyplot as plt\n",
    "\n",
    "# Para resolucion numerica\n",
    "from scipy.optimize import least_squares\n",
    "\n",
    "# Para matematica simbolica\n",
    "import sympy as sp\n",
    "from sympy.utilities.lambdify import lambdify\n",
    "from sympy import print_latex\n",
    "\n",
    "plt.style.use('fivethirtyeight')\n",
    "sp.interactive.init_printing(use_latex='mathjax')"
   ]
  },
  {
   "cell_type": "markdown",
   "metadata": {},
   "source": [
    "# Enunciado\n",
    "\n",
    "La reacción de síntesis catalítica de metanol puede ser representada mediante la siguiente ecuación \n",
    "\n",
    "\\begin{equation*}\n",
    "\\text{CO(g)} + 2\\text{H}_2\\text{(g}) = \\text{CH}_3\\text{OH(g)}\n",
    "\\end{equation*}\n",
    "\n",
    "Si se cuenta con una alimentación equimolar de los reactantes e igual a 5 moles a 200C. ¿Cuál será las fracciones molares si el sistema opera adiabáticamente a 10 bar y el catalizador permite que el sistema alcance el equilibrio sin que exista alguna otra reacción no deseada?"
   ]
  },
  {
   "cell_type": "markdown",
   "metadata": {},
   "source": [
    "## Datos del problema"
   ]
  },
  {
   "cell_type": "code",
   "execution_count": 44,
   "metadata": {},
   "outputs": [],
   "source": [
    "# Propiedades fisicoquimicas de los reactivos\n",
    "# Calor y energia libre de Gibbs estandar de reaccion\n",
    "# Coeficientes A y B para el calculo de las capacidades \n",
    "# calorificas a presion constante de los compuestos.\n",
    "\n",
    "#                DHf(298)   DGf(298)  A     B x 10^2\n",
    "#                 J/mol     J/mol\n",
    "data = np.array([[-110530, -137160, 30.87, -1.285],\n",
    "                 [0, 0, 27.14, 0.927],\n",
    "                 [-200940, -162240, 21.15, 7.092]])\n",
    "\n",
    "# Propiedades de operacion del reactor\n",
    "TempInicial = 200 + 273.15       # Temperatura, K\n",
    "PresionOp = 10                   # Presion, bar\n",
    "\n",
    "# Datos de estado estandar para los calculos de equilibrio\n",
    "Testandar = 298.15 \n",
    "R = 8.314\n",
    "\n",
    "# Datos de la reaccion\n",
    "# Coeficientes estequimetricos y moles alimentados de los reactivos\n",
    "#                      CO  H2 CH3OH\n",
    "CoefMatrix = np.array([-1, -2, 1])  # negativo = reactivo, positivo = producto\n",
    "molesAlime = np.array([5, 5, 0])"
   ]
  },
  {
   "cell_type": "markdown",
   "metadata": {},
   "source": [
    "## Solucion\n",
    "\n",
    "### Balance de moles\n",
    "\n",
    "$$ n_i = n_{i0} + \\nu_i\\:\\xi $$"
   ]
  },
  {
   "cell_type": "code",
   "execution_count": 45,
   "metadata": {},
   "outputs": [],
   "source": [
    "xi = sp.symbols(\"xi\", positive=True)\n",
    "\n",
    "ni = molesAlime + CoefMatrix * xi\n",
    "nTotal = np.sum(ni)\n",
    "yi = ni / nTotal"
   ]
  },
  {
   "cell_type": "code",
   "execution_count": 46,
   "metadata": {},
   "outputs": [
    {
     "name": "stdout",
     "output_type": "stream",
     "text": [
      "    CO          H2        CH3OH\n"
     ]
    },
    {
     "data": {
      "text/latex": [
       "$\\displaystyle \\left[ \\frac{5 - \\xi}{10 - 2 \\xi}, \\  \\frac{5 - 2 \\xi}{10 - 2 \\xi}, \\  \\frac{\\xi}{10 - 2 \\xi}\\right]$"
      ],
      "text/plain": [
       "⎡ 5 - ξ    5 - 2⋅ξ      ξ    ⎤\n",
       "⎢────────, ────────, ────────⎥\n",
       "⎣10 - 2⋅ξ  10 - 2⋅ξ  10 - 2⋅ξ⎦"
      ]
     },
     "metadata": {},
     "output_type": "display_data"
    }
   ],
   "source": [
    "print('    CO          H2        CH3OH')\n",
    "display([yi[n] for n in np.arange(3)])"
   ]
  },
  {
   "cell_type": "markdown",
   "metadata": {},
   "source": [
    "El grado de avance de esta reaccion debe satisfacer la restriccion que los moles finales deben ser iguales o mayores que cero, lo cual ocurre cuando"
   ]
  },
  {
   "cell_type": "code",
   "execution_count": 47,
   "metadata": {},
   "outputs": [
    {
     "data": {
      "text/latex": [
       "$\\displaystyle \\xi \\leq \\frac{5}{2}$"
      ],
      "text/plain": [
       "ξ ≤ 5/2"
      ]
     },
     "metadata": {},
     "output_type": "display_data"
    }
   ],
   "source": [
    "sol = sp.solve([ni[n] >= 0 for n in np.arange(3)])\n",
    "display(sol)"
   ]
  },
  {
   "cell_type": "markdown",
   "metadata": {},
   "source": [
    "## Constante de equilibrio químico\n",
    "\n",
    "### En funcion de la actividad de cada componente\n",
    "\n",
    "Conociendo las expresiones de las composiciones que se alcanzarian en el equilibrio, se puede escribir la constante de equilibrio, K\n",
    "\n",
    "$$ K(y) = \\prod {a_i^{\\nu_i}} = \\prod {\\frac{y_i\\:P^{\\nu_i}}{P^\\circ}} $$"
   ]
  },
  {
   "cell_type": "code",
   "execution_count": 48,
   "metadata": {},
   "outputs": [
    {
     "data": {
      "text/latex": [
       "$\\displaystyle \\frac{\\xi \\left(10 - 2 \\xi\\right)^{2}}{100 \\left(5 - 2 \\xi\\right)^{2} \\cdot \\left(5 - \\xi\\right)}$"
      ],
      "text/plain": [
       "                2     \n",
       "    ξ⋅(10 - 2⋅ξ)      \n",
       "──────────────────────\n",
       "             2        \n",
       "100⋅(5 - 2⋅ξ) ⋅(5 - ξ)"
      ]
     },
     "metadata": {},
     "output_type": "display_data"
    }
   ],
   "source": [
    "Ky = np.prod((yi * PresionOp)**CoefMatrix) \n",
    "display(Ky)"
   ]
  },
  {
   "cell_type": "markdown",
   "metadata": {},
   "source": [
    "### En funcion de la Energia Libre de Gibbs\n",
    "\n",
    "Para conocer el valor del grado de avance se requiere conocer el valor de la constante de equilibrio, como una funcion de la temperatura de reaccion\n",
    "\n",
    "$$ K(T) = \\exp{\\frac{-\\Delta G^\\circ(T)}{R\\,T}} $$\n",
    "\n",
    "Para lo cual es necesario resolver empleando el método de van't Hoff:\n",
    "\n",
    "$$\n",
    "\\begin{align*}\n",
    "&\\ln K(T) = \\ln K(T^\\circ) + \\frac{1}{R}\\int_{T^\\circ}^{T} \\frac{\\Delta H^\\circ(t)}{t^2} \\, dt\\\\\n",
    "&\\Delta H^\\circ(T) = \\Delta H^\\circ(T^\\circ) + \\int_{T^\\circ}^{T} {\\Delta C_p^\\circ(t) \\, dt} \\\\\n",
    "&\\Delta C_p^\\circ(t) = \\sum{\\nu_i\\,C_{p,i}^\\circ(T)} \\equiv \\sum{\\nu_i\\,A_i} + \\sum{\\nu_i\\,B_i}\\,T = \\Delta A + \\Delta B\\,T\n",
    "\\end{align*}\n",
    "$$\n",
    "\n",
    "De esta manera, los calculos necesarios serian:"
   ]
  },
  {
   "cell_type": "code",
   "execution_count": 49,
   "metadata": {},
   "outputs": [],
   "source": [
    "DA = np.sum(data[:, 2] * CoefMatrix)\n",
    "DB = np.sum(data[:, 3] * 1e-2 * CoefMatrix)\n",
    "\n",
    "DHT0 = np.sum(data[:, 0] * CoefMatrix)\n",
    "DGT0 = np.sum(data[:, 1] * CoefMatrix)\n",
    "\n",
    "KT0 = np.exp(-DGT0/R/Testandar)"
   ]
  },
  {
   "cell_type": "code",
   "execution_count": 50,
   "metadata": {},
   "outputs": [
    {
     "name": "stdout",
     "output_type": "stream",
     "text": [
      "El calor de reacción a 298.15 K es igual a -90410.0 J/mol\n",
      "El DG de reaccion a 298.15 K es igual a -25080.0 J/mol\n",
      "La constante de equilibrio químico a 298.15 K es igual a 2.478e+04\n"
     ]
    }
   ],
   "source": [
    "print('El calor de reacción a 298.15 K es igual a {:.1f} J/mol'.format(DHT0))\n",
    "print('El DG de reaccion a 298.15 K es igual a {:.1f} J/mol'.format(DGT0))\n",
    "print('La constante de equilibrio químico a 298.15 K es igual a {:.3e}'.format(KT0))"
   ]
  },
  {
   "cell_type": "markdown",
   "metadata": {},
   "source": [
    "La expresión se Van't Hoff es una función que depende la temperatura, por lo cual se necesita una función de T"
   ]
  },
  {
   "cell_type": "code",
   "execution_count": 51,
   "metadata": {},
   "outputs": [],
   "source": [
    "# Se definen dos variables para la expresion de van't Hoff\n",
    "# t: variable de integracion\n",
    "# T: variable que indica como cambia la temperatura dentro del reactor\n",
    "t, T = sp.symbols(\"t, T\", positive=True)"
   ]
  },
  {
   "cell_type": "markdown",
   "metadata": {},
   "source": [
    "Expresiones para evaluar las energias a cualquier temperatura T, empleando el modulo _integrate_ de _Sympy_ "
   ]
  },
  {
   "cell_type": "code",
   "execution_count": 52,
   "metadata": {},
   "outputs": [
    {
     "data": {
      "text/latex": [
       "$\\displaystyle \\frac{8494102314.01275 e^{0.00392290113062305 T + \\frac{8928.03211147913}{T}}}{T^{7.69785903295646}}$"
      ],
      "text/plain": [
       "                                                             8928.03211147913\n",
       "                                     0.00392290113062305⋅T + ────────────────\n",
       "                  -7.69785903295646                                 T        \n",
       "8494102314.01275⋅T                 ⋅ℯ                                        "
      ]
     },
     "metadata": {},
     "output_type": "display_data"
    }
   ],
   "source": [
    "# Funcion para el calor estandar de reaccion en funcion de T\n",
    "DHt = DHT0 + sp.integrate(DA + DB * t, (t, 298.15, T))\n",
    "\n",
    "# Expresion para constante de equilibrio en funcion de T\n",
    "lnKe = np.log(KT0) + 1/R * (sp.integrate(DHt / (T**2), (T, 298.15, T)))\n",
    "\n",
    "Ke = sp.exp(lnKe)\n",
    "\n",
    "display(Ke)"
   ]
  },
  {
   "cell_type": "markdown",
   "metadata": {},
   "source": [
    "## Sistema de ecuaciones\n",
    "\n",
    "El sistema de ecuaciones simbólicas son:\n",
    "\n",
    "$$\n",
    "\\begin{aligned}\n",
    "f_1(T,\\xi) &= \\frac{K_y(\\xi)}{K_e(T)} - 1 \\\\\n",
    "f_2(T,\\xi) &= \\sum{n_{e,i} \\, \\int_{T_e}^{T_{out}} C_{p_i}(t)\\: dt} + \\xi \\: \\Delta H^\\circ (T)\n",
    "\\end{aligned}\n",
    "$$\n",
    "\n",
    "Con la restriccion que $ 0 \\leq \\xi \\leq 2.5$ "
   ]
  },
  {
   "cell_type": "code",
   "execution_count": 53,
   "metadata": {},
   "outputs": [
    {
     "data": {
      "text/latex": [
       "$\\displaystyle T^{2} \\cdot \\left(0.032615 \\xi - 0.00895\\right) + T \\left(290.05 - 64.0 \\xi\\right) - 74227.6589748375 \\xi - 135233.512743625$"
      ],
      "text/plain": [
       " 2                                                                            \n",
       "T ⋅(0.032615⋅ξ - 0.00895) + T⋅(290.05 - 64.0⋅ξ) - 74227.6589748375⋅ξ - 135233.\n",
       "\n",
       "         \n",
       "512743625"
      ]
     },
     "metadata": {},
     "output_type": "display_data"
    }
   ],
   "source": [
    "# Igualdad de las expresiones para la constante de equilibrio\n",
    "F1 = sp.log(Ky) - lnKe\n",
    "\n",
    "# Balance de energia\n",
    "F2 = np.sum([molesAlime[n] * sp.integrate(data[n, 2] +  data[n, 3] * 1e-2 * t, (t, TempInicial, T)) \n",
    "             for n in np.arange(3)]) + xi * DHt\n",
    "\n",
    "F3 = sp.expand(F2)\n",
    "F4 = sp.collect(F3, T)\n",
    "display(F4)"
   ]
  },
  {
   "cell_type": "code",
   "execution_count": 54,
   "metadata": {},
   "outputs": [],
   "source": [
    "f1 = lambdify((T, xi), F1, \"numpy\")\n",
    "f2 = lambdify((T, xi), F2, \"numpy\")"
   ]
  },
  {
   "cell_type": "code",
   "execution_count": 55,
   "metadata": {},
   "outputs": [],
   "source": [
    "def problema(z, *args):\n",
    "    \"\"\" Resuelve el grado avance y temperatura de operacion\n",
    "    de un reactor que opera de forma adiabatica.\n",
    "    \n",
    "    Input: z: es un vector donde se encuentran las variables\n",
    "           independientes: temperatura y grado de avance\n",
    "           args: son las funciones que seran resueltas\n",
    "           En este caso, args[0] es la funcion de igualdad de \n",
    "           constante de equilibrio mientras que args[1] es\n",
    "           el balance de energia del reactor\n",
    "    Output: funciones a ser resueltas por el resolvedor\n",
    "    \"\"\"\n",
    "    temperatura, grado_avance = z\n",
    "    ecuacion_1, ecuacion_2 = args\n",
    "    \n",
    "    fun1 = ecuacion_1(temperatura, grado_avance)\n",
    "    fun2 = ecuacion_2(temperatura, grado_avance)\n",
    "    return [fun1, fun2]"
   ]
  },
  {
   "cell_type": "code",
   "execution_count": 61,
   "metadata": {},
   "outputs": [],
   "source": [
    "temperatura_minima = 300\n",
    "temperatura_maxima = 800\n",
    "\n",
    "grado_avance_minimo = 1e-8\n",
    "grado_avance_maximo = 2.5 - 1e-8\n",
    "\n",
    "x0 = (400, 0.01)\n",
    "bnds = ((temperatura_minima, grado_avance_minimo), \n",
    "        (temperatura_maxima, grado_avance_maximo))\n",
    "solucion = least_squares(problema, x0, \n",
    "                   args=(f1, f2), bounds=bnds)"
   ]
  },
  {
   "cell_type": "code",
   "execution_count": 62,
   "metadata": {},
   "outputs": [
    {
     "data": {
      "text/plain": [
       " active_mask: array([0, 0])\n",
       "        cost: 4.235165304251353e-22\n",
       "         fun: array([-1.06581410e-14, -2.91038305e-11])\n",
       "        grad: array([-8.02505207e-09,  2.88158337e-06])\n",
       "         jac: array([[ 4.22632745e-02,  6.75680161e+00],\n",
       "       [ 2.75738674e+02, -9.90104531e+04]])\n",
       "     message: '`xtol` termination condition is satisfied.'\n",
       "        nfev: 82\n",
       "        njev: 73\n",
       "  optimality: 2.160118143107758e-06\n",
       "      status: 3\n",
       "     success: True\n",
       "           x: array([5.30828146e+02, 1.63732946e-01])"
      ]
     },
     "execution_count": 62,
     "metadata": {},
     "output_type": "execute_result"
    }
   ],
   "source": [
    "# Verifica la solucion\n",
    "solucion"
   ]
  },
  {
   "cell_type": "code",
   "execution_count": 63,
   "metadata": {},
   "outputs": [
    {
     "name": "stdout",
     "output_type": "stream",
     "text": [
      "La temperatura de equilibrio es 530.83 K, \n",
      "mientras que el grado de avance es igual a 0.1637\n"
     ]
    }
   ],
   "source": [
    "print((\"La temperatura de equilibrio es {:.2f} K, \\n\"\n",
    "       \"mientras que el grado de avance es igual a {:.4f}\".\n",
    "       format(solucion.x[0], solucion.x[1])))"
   ]
  },
  {
   "cell_type": "markdown",
   "metadata": {},
   "source": [
    "Las composiciones en el equilibrio seran:"
   ]
  },
  {
   "cell_type": "code",
   "execution_count": 59,
   "metadata": {},
   "outputs": [
    {
     "name": "stdout",
     "output_type": "stream",
     "text": [
      "CO(g):    0.5000\n",
      "H2(g):    0.4831\n",
      "CH3OH(g): 0.0169\n"
     ]
    }
   ],
   "source": [
    "print(\"CO(g): {:9.4f}\".format(yi[0].subs(xi, solucion.x[1])))\n",
    "print(\"H2(g): {:9.4f}\".format(yi[1].subs(xi, solucion.x[1])))\n",
    "print(\"CH3OH(g): {:6.4f}\".format(yi[2].subs(xi, solucion.x[1])))"
   ]
  },
  {
   "cell_type": "markdown",
   "metadata": {},
   "source": [
    "## Estimacion grafica\n",
    "\n",
    "En caso que se desea una solución estimada, se podría construir un gráfico de las funciones (constante de equilibrio y balance de energía) de la siguiente manera:\n",
    "\n",
    "1. Se supone la temperatura de reacción (es mucho mas simple)\n",
    "2. Se calcula el grado de avance mediante la funcion f1 para el valor T supuesto.\n",
    "3. Con el valor de grado de avance calculado y T supuesta se determina el calor del reactor\n",
    "4. Se grafican ambas curvas. \n",
    "\n",
    "La solución estimada será cuando el balance de energía sea igual a cero."
   ]
  },
  {
   "cell_type": "code",
   "execution_count": 64,
   "metadata": {},
   "outputs": [],
   "source": [
    "def funSup(ts, *args):\n",
    "    \"\"\"Resuelve la ecuacion de la constante de equilibrio\n",
    "\n",
    "    Args:\n",
    "        ts (float): temperatura supuesta del reactor, K\n",
    "        low (float): valor minimo del grado de avance\n",
    "        high (float): valor maximo del grado de avance\n",
    "\n",
    "    Returns:\n",
    "        solucion numerica de la ecuacion\n",
    "    \"\"\"\n",
    "    funcion_ky, low, high = args\n",
    "    funcion_ke = lambda x: funcion_ky(ts, x)\n",
    "    return least_squares(funcion_ke, 0.01, bounds=((low, high))).x\n",
    " "
   ]
  },
  {
   "cell_type": "code",
   "execution_count": 69,
   "metadata": {},
   "outputs": [],
   "source": [
    "Tsup = np.linspace(500, 700, 50)\n",
    "\n",
    "Xi_calc = []\n",
    "Q_calc = []\n",
    "argumentos = (f1, grado_avance_minimo, grado_avance_maximo)               \n",
    "for n in np.arange(len(Tsup)):\n",
    "    grado_avance_calculado = funSup(Tsup[n], *argumentos)\n",
    "    \n",
    "    Xi_calc.append(grado_avance_calculado)\n",
    "    Q_calc.append(f2(Tsup[n], grado_avance_calculado))"
   ]
  },
  {
   "cell_type": "code",
   "execution_count": 70,
   "metadata": {},
   "outputs": [
    {
     "data": {
      "image/png": "[encoded data removed]",
      "text/plain": [
       "<Figure size 1000x600 with 2 Axes>"
      ]
     },
     "metadata": {},
     "output_type": "display_data"
    }
   ],
   "source": [
    "fig, ax1 = plt.subplots(figsize=(10, 6))\n",
    "ax1.grid(False)\n",
    "ax1.plot(Tsup, Xi_calc, 'b-')\n",
    "ax1.set_xlabel('Temperatura (K)')\n",
    "ax1.set_ylabel('Grado de avance, ' r'$\\xi$', color='b')\n",
    "ax1.tick_params('y', colors='b')\n",
    "\n",
    "ax2 = ax1.twinx()\n",
    "ax2.plot(Tsup, Q_calc, 'r-.')\n",
    "ax2.set_ylabel('Calor del reactor, Q (J/mol)', color='r')\n",
    "ax2.tick_params('y', colors='r')\n",
    "\n",
    "ax1.axvline(x=solucion.x[0])\n",
    "\n",
    "fig.tight_layout()"
   ]
  },
  {
   "cell_type": "code",
   "execution_count": null,
   "metadata": {},
   "outputs": [],
   "source": []
  }
 ],
 "metadata": {
  "kernelspec": {
   "display_name": "Python 3.8.13 ('base')",
   "language": "python",
   "name": "python3"
  },
  "language_info": {
   "codemirror_mode": {
    "name": "ipython",
    "version": 3
   },
   "file_extension": ".py",
   "mimetype": "text/x-python",
   "name": "python",
   "nbconvert_exporter": "python",
   "pygments_lexer": "ipython3",
   "version": "3.8.13"
  },
  "orig_nbformat": 4,
  "vscode": {
   "interpreter": {
    "hash": "1c30720ad38499d80e168609025d05c859feb4a0331a899893557630c803b723"
   }
  }
 },
 "nbformat": 4,
 "nbformat_minor": 2
}
