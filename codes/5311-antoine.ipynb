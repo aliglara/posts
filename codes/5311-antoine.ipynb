{
 "cells": [
  {
   "cell_type": "markdown",
   "metadata": {},
   "source": [
    "# Statement\n",
    "\n",
    "Butano líquido es bombeado a un vaporizador como líquido saturado a una presión de 1.88 MPa. El butano sale del intercambiador como vapor húmedo con 90% de calidad y esencialmente a la misma presión de alimentación. Determine la carga calórica en el vaporizador por gramo de butano alimentado.\n",
    "\n",
    "Datos del butano:\n",
    "- Temperatura normal de ebullición = 272.2 K\n",
    "- Punto triple: T = 134.6 K, P = 0.7 Pa\n",
    "- Punto crítico: T = 425.1 K, P = 37.96 bar"
   ]
  },
  {
   "cell_type": "markdown",
   "metadata": {},
   "source": [
    "# Solución\n",
    "\n",
    "## Determinacion de los parámetros de la ecuación de Antoine\n",
    "Se requiere una expresión para calcular la temperatura a la cual se encuentra el butano alimentado. Como el estado es de saturación, se emplea la ecuación de Antoine para determinar dicha temperatura.\n",
    "\n",
    "Ahora bien, se conoce que el logaritmo natural de la presión de saturación de un componente puro varía con el inverso de la temperatura absoluta.\n",
    "\n",
    "$$\n",
    "\\ln P^\\text{sat} = A - \\frac{B}{T+C}\n",
    "$$\n",
    "\n",
    "Como se desconoce los parámetros de la ecuación de Antoine, se emplea los datos de saturación datos para determinarlos. Existen diversas formas de resolver esto, en este ejercicio se utiliza algebra lineal para resolver un sistema de ecuaciones no lineal.\n",
    "\n",
    "El primer paso, seria linealizar el sistema de ecuaciones\n",
    "\n",
    "$$\n",
    "\\begin{aligned}\n",
    "\\ln P \\left(\\frac{T + C}{T} \\right) & = A \\left(\\frac{T + C}{T} \\right) - \\frac{B}{T+C}\\left(\\frac{T + C}{T} \\right) \\\\\n",
    "\\ln P + \\frac{C \\ln P}{T} & = A + \\frac{AC}{T} - \\frac{B}{T} \\\\\n",
    "\\ln P \\left( 1+ \\frac{C}{T}\\right) & = A + \\left(AC - B\\right)\\frac{1}{T} \\\\\n",
    "\\ln P & = A + \\left(AC - B - C \\ln P\\right)\\frac{1}{T}\n",
    "\\end{aligned}\n",
    "$$\n",
    "\n",
    "De esta manera, se observa que es una linea recta cuya pendiente es igual a $ \\left(AC - B - C \\ln P\\right)$ y con corte igual a $A$.\n",
    "\n",
    "Esto se puede reescribir para resolver, por ejemplo, mediante algebra lineal $a x = b$. Entonces:\n",
    "\n",
    "\\begin{equation}\n",
    "\\ln P = A + \\left(AC - B\\right)\\frac{1}{T} -  C \\:\\frac{\\ln P}{T}\n",
    "\\end{equation}\n",
    "\n",
    "De forma matricial, seria:\n",
    "\n",
    "\\begin{equation*}\n",
    "\\left[ \\begin{array}{ccc}\n",
    "1 & \\cfrac{1}{T_1} & \\cfrac{\\ln P_1}{T_1} \\\\\n",
    "1 & \\cfrac{1}{T_2} & \\cfrac{\\ln P_2}{T_2} \\\\\n",
    "1 & \\cfrac{1}{T_3} & \\cfrac{\\ln P_3}{T_2} \\end{array} \\right] \\: \\left[ \\begin{array}{c}\n",
    "A  \\\\\n",
    "AC - B \\\\\n",
    "C \\end{array} \\right] = \\left[ \\begin{array}{c}\n",
    "\\ln P_1  \\\\\n",
    "\\ln P_2 \\\\\n",
    "\\ln P_3 \\end{array} \\right]\n",
    "\\end{equation*}"
   ]
  },
  {
   "cell_type": "markdown",
   "metadata": {},
   "source": [
    "## Implementacion de la solución numérica\n",
    "\n",
    "Para la solución numérica de los parámetros de Antoine, se emplea la funcion *fsolve* modulo de **Scipy**"
   ]
  },
  {
   "cell_type": "code",
   "execution_count": null,
   "metadata": {},
   "outputs": [],
   "source": [
    "import numpy as np\n",
    "from scipy.optimize import fsolve"
   ]
  },
  {
   "cell_type": "code",
   "execution_count": null,
   "metadata": {},
   "outputs": [],
   "source": [
    "data = np.array([[134.6, 0.7], \n",
    "                 [272.7, 1.01325e5], \n",
    "                 [425.1, 3796000]])"
   ]
  },
  {
   "cell_type": "markdown",
   "metadata": {},
   "source": []
  }
 ],
 "metadata": {
  "language_info": {
   "name": "python"
  },
  "orig_nbformat": 4
 },
 "nbformat": 4,
 "nbformat_minor": 2
}
