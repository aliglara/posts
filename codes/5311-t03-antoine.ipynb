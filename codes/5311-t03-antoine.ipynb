{
 "cells": [
  {
   "cell_type": "markdown",
   "metadata": {},
   "source": [
    "# Statement\n",
    "\n",
    "Butano líquido es bombeado a un vaporizador como líquido saturado a una presión de 1.88 MPa. El butano sale del intercambiador como vapor húmedo con 90% de calidad y esencialmente a la misma presión de alimentación. Determine la carga calórica en el vaporizador por gramo de butano alimentado.\n",
    "\n",
    "Datos del butano:\n",
    "- Temperatura normal de ebullición = 272.2 K\n",
    "- Punto triple: T = 134.6 K, P = 0.7 Pa\n",
    "- Punto crítico: T = 425.1 K, P = 37.96 bar"
   ]
  },
  {
   "cell_type": "code",
   "execution_count": 1,
   "metadata": {},
   "outputs": [
    {
     "name": "stderr",
     "output_type": "stream",
     "text": [
      "/Users/aliglara/miniconda3/lib/python3.8/site-packages/scipy/__init__.py:146: UserWarning: A NumPy version >=1.16.5 and <1.23.0 is required for this version of SciPy (detected version 1.23.1\n",
      "  warnings.warn(f\"A NumPy version >={np_minversion} and <{np_maxversion}\"\n"
     ]
    }
   ],
   "source": [
    "import numpy as np\n",
    "from scipy.optimize import fsolve\n",
    "import matplotlib.pyplot as plt\n",
    "\n",
    "plt.style.use('fivethirtyeight')"
   ]
  },
  {
   "cell_type": "markdown",
   "metadata": {},
   "source": [
    "# Solución\n",
    "\n",
    "## Determinacion de los parámetros de la ecuación de Antoine\n",
    "Se requiere una expresión para calcular la temperatura a la cual se encuentra el butano alimentado. Como el estado es de saturación, se emplea la ecuación de Antoine para determinar dicha temperatura.\n",
    "\n",
    "Ahora bien, se conoce que el logaritmo natural de la presión de saturación de un componente puro varía con el inverso de la temperatura absoluta.\n",
    "\n",
    "$$\n",
    "\\ln P^\\text{sat} = A - \\frac{B}{T+C}\n",
    "$$\n",
    "\n",
    "Como se desconoce los parámetros de la ecuación de Antoine, se emplea los datos de saturación datos para determinarlos. Existen diversas formas de resolver esto, en este ejercicio se utiliza algebra lineal para resolver un sistema de ecuaciones no lineal.\n",
    "\n",
    "El primer paso, seria linealizar el sistema de ecuaciones\n",
    "\n",
    "$$\n",
    "\\begin{aligned}\n",
    "\\ln P \\left(\\frac{T + C}{T} \\right) & = A \\left(\\frac{T + C}{T} \\right) - \\frac{B}{T+C}\\left(\\frac{T + C}{T} \\right) \\\\\n",
    "\\ln P + \\frac{C \\ln P}{T} & = A + \\frac{AC}{T} - \\frac{B}{T} \\\\\n",
    "\\ln P \\left( 1+ \\frac{C}{T}\\right) & = A + \\left(AC - B\\right)\\frac{1}{T} \\\\\n",
    "\\ln P & = A + \\left(AC - B - C \\ln P\\right)\\frac{1}{T}\n",
    "\\end{aligned}\n",
    "$$\n",
    "\n",
    "De esta manera, se observa que es una linea recta cuya pendiente es igual a $ \\left(AC - B - C \\ln P\\right)$ y con corte igual a $A$.\n",
    "\n",
    "Esto se puede reescribir para resolver, por ejemplo, mediante algebra lineal $a x = b$. Entonces:\n",
    "\n",
    "\\begin{equation}\n",
    "\\ln P = A + \\left(AC - B\\right)\\frac{1}{T} -  C \\:\\frac{\\ln P}{T}\n",
    "\\end{equation}\n",
    "\n",
    "De forma matricial, seria:\n",
    "\n",
    "\\begin{equation*}\n",
    "\\left[ \\begin{array}{ccc}\n",
    "1 & \\cfrac{1}{T_1} & \\cfrac{\\ln P_1}{T_1} \\\\\n",
    "1 & \\cfrac{1}{T_2} & \\cfrac{\\ln P_2}{T_2} \\\\\n",
    "1 & \\cfrac{1}{T_3} & \\cfrac{\\ln P_3}{T_2} \\end{array} \\right] \\: \\left[ \\begin{array}{c}\n",
    "A  \\\\\n",
    "AC - B \\\\\n",
    "C \\end{array} \\right] = \\left[ \\begin{array}{c}\n",
    "\\ln P_1  \\\\\n",
    "\\ln P_2 \\\\\n",
    "\\ln P_3 \\end{array} \\right]\n",
    "\\end{equation*}"
   ]
  },
  {
   "cell_type": "code",
   "execution_count": 2,
   "metadata": {},
   "outputs": [],
   "source": [
    "# Datos del enunciado\n",
    "#                Temp,  Presion\n",
    "data = np.array([[134.6, 0.7], \n",
    "                 [272.7, 1.01325e5], \n",
    "                 [425.1, 3796000]])"
   ]
  },
  {
   "cell_type": "code",
   "execution_count": 3,
   "metadata": {},
   "outputs": [
    {
     "name": "stdout",
     "output_type": "stream",
     "text": [
      "[[ 1.          0.00742942  0.00264989]\n",
      " [ 1.          0.00366703 -0.04226655]\n",
      " [ 1.          0.00235239 -0.0356374 ]]\n"
     ]
    }
   ],
   "source": [
    "# Matriz a\n",
    "a = np.ones((3,3))\n",
    "a[:,1] = 1/data[:,0]\n",
    "a[:,2] = -np.log(data[:,1])/data[:,0]\n",
    "print(a)"
   ]
  },
  {
   "cell_type": "code",
   "execution_count": 4,
   "metadata": {},
   "outputs": [
    {
     "name": "stdout",
     "output_type": "stream",
     "text": [
      "[-0.35667494 11.52608845 15.14945844]\n"
     ]
    }
   ],
   "source": [
    "# Vector b\n",
    "b = np.log(data[:,1])\n",
    "print(b)"
   ]
  },
  {
   "cell_type": "markdown",
   "metadata": {},
   "source": [
    "\n",
    "Para la solución numérica de los parámetros de Antoine, se emplea la funcion *solve* modulo de **linalg** from Numpy"
   ]
  },
  {
   "cell_type": "code",
   "execution_count": 5,
   "metadata": {},
   "outputs": [
    {
     "name": "stdout",
     "output_type": "stream",
     "text": [
      "Las constantes de la ecuacion de Antoine son: \n",
      "A = 21.07, B = 2376.59 y C = -23.68\n"
     ]
    }
   ],
   "source": [
    "# Solucion de vector x\n",
    "\n",
    "x = np.linalg.solve(a,b)\n",
    "\n",
    "# Determinacion de parametros de Antoine\n",
    "A = x[0]\n",
    "C = x[2]\n",
    "B = A*C - x[1]\n",
    "\n",
    "print((\"Las constantes de la ecuacion de Antoine son: \\n\" \n",
    "       \"A = {:.2f}, B = {:.2f} y C = {:.2f}\".format(A, B, C)))"
   ]
  },
  {
   "cell_type": "markdown",
   "metadata": {},
   "source": [
    "## Determinacion de la carga calorica\n",
    "\n",
    "Ahora para determinar el calor de vaporizacion se relaciona la ecuacion de Antoine con la ecuación de Clausius-Clapeyron\n",
    "\n",
    "\\begin{aligned}\n",
    "\\left(\\frac{\\partial P^\\text{sat}}{\\partial T}\\right)_{\\Delta G =0 } & = \\frac{\\Delta H^\\text{vap}}{R\\,T^2} \\\\\n",
    "\\frac{B}{\\left( T + C \\right)^2} & = \\frac{\\Delta H^\\text{vap}}{R\\,T^2} \n",
    "\\end{aligned}"
   ]
  },
  {
   "cell_type": "markdown",
   "metadata": {},
   "source": [
    "Lo que se reduce a un sistema de ecuaciones con dos incognitas: la temperatura de saturacion del sistema y el cambio de entalpia de vaporizacion de la sustancia.\n",
    "\n",
    "$$\n",
    "\\begin{aligned}\n",
    "& \\ln P^\\text{sat} = A - \\frac{B}{T+C} \\\\\n",
    "& \\frac{B}{\\left( T + C \\right)^2} = \\frac{\\Delta H^\\text{vap}}{R\\,T^2} \n",
    "\\end{aligned}\n",
    "$$"
   ]
  },
  {
   "cell_type": "code",
   "execution_count": 6,
   "metadata": {},
   "outputs": [],
   "source": [
    "def sistema_ecuaciones(x, *args):\n",
    "    '''implementacion del sistema de ecuaciones\n",
    "    '''\n",
    "    temp, delta_h = x\n",
    "    presion, a, b, c, r_gas = args\n",
    "    \n",
    "    f1 = np.log(presion) - (a - b/(temp + c))\n",
    "    f2 = b/(temp + c)**2 - delta_h/r_gas/temp**2\n",
    "    \n",
    "    return [f1, f2]"
   ]
  },
  {
   "cell_type": "code",
   "execution_count": 7,
   "metadata": {},
   "outputs": [],
   "source": [
    "R_gas = 8.31416\n",
    "Presion_feed = 1.88e6\n",
    "calidad = .9\n",
    "Peso_Molecular = 58\n",
    "\n",
    "parametros = (Presion_feed, A, B, C, R_gas)\n",
    "Temperature_feed, Delta_vapor = fsolve(sistema_ecuaciones, [350, 2000], args=parametros)"
   ]
  },
  {
   "cell_type": "code",
   "execution_count": 8,
   "metadata": {},
   "outputs": [
    {
     "name": "stdout",
     "output_type": "stream",
     "text": [
      "La carga calorica en el vaporizador es 348.42 J/g\n"
     ]
    }
   ],
   "source": [
    "carga_calorica = Delta_vapor * calidad / Peso_Molecular\n",
    "print(\"La carga calorica en el vaporizador es {:.2f} J/g\".format(Delta_vapor * calidad / Peso_Molecular))"
   ]
  }
 ],
 "metadata": {
  "kernelspec": {
   "display_name": "Python 3.8.13 ('base')",
   "language": "python",
   "name": "python3"
  },
  "language_info": {
   "codemirror_mode": {
    "name": "ipython",
    "version": 3
   },
   "file_extension": ".py",
   "mimetype": "text/x-python",
   "name": "python",
   "nbconvert_exporter": "python",
   "pygments_lexer": "ipython3",
   "version": "3.8.13"
  },
  "orig_nbformat": 4,
  "vscode": {
   "interpreter": {
    "hash": "1c30720ad38499d80e168609025d05c859feb4a0331a899893557630c803b723"
   }
  }
 },
 "nbformat": 4,
 "nbformat_minor": 2
}
