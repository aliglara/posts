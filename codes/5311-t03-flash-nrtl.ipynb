{
 "cells": [
  {
   "cell_type": "code",
   "execution_count": 19,
   "metadata": {},
   "outputs": [],
   "source": [
    "import numpy as np\n",
    "from scipy.optimize import fsolve"
   ]
  },
  {
   "cell_type": "code",
   "execution_count": 20,
   "metadata": {},
   "outputs": [],
   "source": [
    "# Datos del problema\n",
    "#                 A         B        C       D        E\n",
    "Antoine = {1: [58.302, -5385.6, -5.4954, 5.3634e-6, 2],\n",
    "           2: [154.62, -8793.1, -21.684, 2.3916e-2, 1]}\n",
    "\n",
    "Pressure = 1e5       # Presion total del sistema, Pa\n",
    "alpha = 0.333        # Parametro de NRTL adimensional\n",
    "b12_R = 768.57         # Parametro energetico de NTRL, K\n",
    "b21_R = 465.43         # Parametro energetico de NTRL, K\n",
    "\n",
    "bs_R = [b12_R, b21_R]"
   ]
  },
  {
   "cell_type": "markdown",
   "metadata": {},
   "source": [
    "# Existe algun azeotropo en el sistema?\n",
    "\n",
    "Como los coeficientes de actividades de los componentes puede ser modelado empleando las correlaciones de NRTL, entonces es posible que haya azeotropo a la presion de 1 bar. Pero existira? a cual temperatura?\n",
    "\n",
    "Para saber si hay un azeótropo se calcula los valores de la volatilidad relativa del etanol a sus valores extremos de composión.\n",
    "\n",
    "De esta manera se debe evaluar las siguientes relaciones:\n",
    "\n",
    "\\begin{equation*}\n",
    "\\lim_{x_1 \\to 1} \\alpha_{12} = \\frac{P_1^\\text{sat}(T_1^\\text{sat})}{\\gamma_2^\\infty P_2^\\text{sat}(T_1^\\text{sat})} \\qquad \\lim_{x_1 \\to 0} \\alpha_{12} = \\frac{\\gamma_1^\\infty P_1^\\text{sat}(T_2^\\text{sat})}{P_2^\\text{sat}(T_2^\\text{sat})}\n",
    "\\end{equation*}\n",
    "\n",
    "Si hay un cambio en el valor de la volatilidad relativa con respecto a 1, entonces habra al menos azeótropo en la solución.\n",
    "\n",
    "Para realizar el calculo se necesita:\n",
    "\n",
    "- Expresion para calcular la presion de saturacion\n",
    "- Expresion para determinar los valores de los coeficientes de actividad a dilucion infinita\n",
    "\n",
    "La presión de saturación puede ser estimada mediante:\n",
    "\n",
    "\\begin{equation}\n",
    "P^\\text{sat} = \\exp\\left(A + \\frac{B}{T} + C \\, \\ln(T) + D \\, T^E\\right)\n",
    "\\end{equation}\n",
    "\n",
    "Mientras que para evaluar los coeficientes de actividad a dilucion infinita se tiene:\n",
    "\n",
    "$$\n",
    "\\begin{aligned}\n",
    "&\\tau_{12} = \\frac{b_{12}}{R\\:T} \\\\\n",
    "&\\tau_{21} = \\frac{b_{21}}{R\\:T} \\\\\n",
    "&\\ln\\left(\\gamma_{1}^\\infty\\right) = \\tau_{21} + \\tau_{12} \\: \\exp(-\\alpha  \\tau_{12}) \\\\\n",
    "&\\ln\\left(\\gamma_{2}^\\infty\\right) = \\tau_{12} + \\tau_{21} \\: \\exp(-\\alpha  \\tau_{21})\n",
    "\\end{aligned}\n",
    "$$\n",
    "\n"
   ]
  },
  {
   "cell_type": "code",
   "execution_count": 21,
   "metadata": {},
   "outputs": [],
   "source": [
    "# Vamos a crear algunas funciones auxiliares\n",
    "def psat(temp, coef_antoine):\n",
    "    \"\"\"\n",
    "    Calcula presion de saturación de un componente puro para un presión dada.\n",
    "    input:\n",
    "        temp: temperatura del sistema, K\n",
    "        coef_antoine: Parametros de Ecuacion de Antoine\n",
    "    output:\n",
    "        presion de saturacion en Pascal\n",
    "    \"\"\"\n",
    "    a, b, c, d, e = coef_antoine\n",
    "    return np.exp(a + b/temp + c * np.log(temp) + d * temp**e)\n",
    "\n",
    "def tsat(temp, *args):\n",
    "    \"\"\"\n",
    "    Calcula la temperatura de saturacion de un componente\n",
    "\n",
    "    Input:\n",
    "        presion (float): Presion total del sistema, Pa\n",
    "        coef_antoine (float): Parametros de la ecuacion de Antoine del componente\n",
    "    Output:\n",
    "       temperatura de saturacion del componente, K\n",
    "    \"\"\"\n",
    "    presion, coef_antoine = args\n",
    "    return presion - psat(temp, coef_antoine)\n"
   ]
  },
  {
   "cell_type": "code",
   "execution_count": 22,
   "metadata": {},
   "outputs": [],
   "source": [
    "\n",
    "def coef_dilucion_infinita(press, alpha, bs_r, antoine):\n",
    "    \"\"\"\n",
    "    Calcula la volatilidad relativa 12 cuando la solucion\n",
    "    es concentrada y a dilucion infinita\n",
    "    input:\n",
    "        press: presion total de sistema, Pa\n",
    "        alpha: parametro de NRTL para sistema termodinamica, adim\n",
    "        bs_r: parametro energetico para comp12 y comp21, K\n",
    "        antoine: parametros de ecuacion de Antoine\n",
    "    output:\n",
    "        alpha_12_infty: volatilidad relativa 12, adim\n",
    "        msg: string que indica si hay azeotropo en el sistema\n",
    "        tsats: temperaturas de saturacion de los componentes puros, K\n",
    "    \"\"\"\n",
    "        \n",
    "    tsats = [fsolve(tsat, 300, args=(press, antoine[i]))[0] for i in antoine.keys()]\n",
    "    alpha_12_infty = []\n",
    "    exponencial = {0:-1, 1:1}\n",
    "    \n",
    "    for i in range(len(tsats)):\n",
    "        # cuando i = 0 => solucion a dilucion infinita en componente 2\n",
    "        #        i = 1 => solucion a dilucion infinita en componente 1\n",
    "        taus = bs_r / tsats[1-i]\n",
    "        gamma_infty = np.exp(taus[i] + taus[1-i] * np.exp(-alpha * taus[1-i]))\n",
    "        psat1, psat2 = psat(tsats[i], antoine[1]), psat(tsats[i], antoine[2])\n",
    "        alpha_12_infty.append(gamma_infty**exponencial[i] * psat1/psat2)\n",
    "    \n",
    "    alpha_12_infty = np.array(alpha_12_infty)\n",
    "    if ((alpha_12_infty >= 1).sum() != alpha_12_infty.size).astype(np.int32):\n",
    "        if alpha_12_infty[0] > 1:\n",
    "            msg = 'El sistema presenta un azetropo de maxima ebullicion'\n",
    "        else:\n",
    "            msg = 'El sistema presenta un azetropo de minima ebullicion'\n",
    "    else:\n",
    "        msg = 'El sistema no presenta punto azeotropico'\n",
    "    \n",
    "    return (alpha_12_infty, msg, tsats)\n"
   ]
  },
  {
   "cell_type": "code",
   "execution_count": 23,
   "metadata": {},
   "outputs": [
    {
     "name": "stdout",
     "output_type": "stream",
     "text": [
      "Con base a los valores de volatidad relativa 12 se concluye que: \n",
      "El sistema presenta un azetropo de minima ebullicion\n"
     ]
    }
   ],
   "source": [
    "alpha12, mensaje, Tsats = coef_dilucion_infinita(Pressure, alpha, bs_R, Antoine)\n",
    "print(f\"Con base a los valores de volatidad relativa 12 se concluye que: \\n%s\"%(mensaje))"
   ]
  },
  {
   "cell_type": "markdown",
   "metadata": {},
   "source": [
    "## Ubicacion del punto azeotropico\n",
    "\n",
    "Ahora que se conoce que el sistema presenta un azeotropo de ebullicion minima, entonces se debe determinar donde se encuentra antes de realizar calculos de equilibrio de fases para:\n",
    "1. Determinar si es factible fisicamente realizar la separacion de los compuestos\n",
    "2. Evitar complicaciones innecesarias en los calculos numericos\n",
    "\n",
    "Para calcular el lugar exacto donde ocurre el azeotropo. Lo que se debe resolver son las ecuaciones de ELV con la restriccion que la composicion de cada uno de los compuestos sera igual a la de su fase complementaria. \n",
    " \n",
    " $$\n",
    " P = \\gamma_i \\: P_i^\\text{sat}\n",
    "$$\n",
    " \n",
    " Los coeficientes de actividad deben calcularse con el modelo de NRTL\n",
    " \n",
    " $$\n",
    " \\begin{aligned}\n",
    " &\\ln \\gamma _1  = x_2^2\\,\\left[ \\tau_{21}\\left(\\frac{G_{21}}{x_1+x_2G_{21}}\\right)^2 + \\frac{\\tau_{12}G_{12}}{\\left(x_2 + x_1 G_{12}\\right)^2} \\right] \\\\\n",
    " &\\ln \\gamma _2  = x_1^2\\,\\left[ \\tau_{12}\\left(\\frac{G_{12}}{x_2+x_1G_{12}}\\right)^2 + \\frac{\\tau_{21}G_{21}}{\\left(x_1 + x_2 G_{21}\\right)^2} \\right] \\\\\n",
    " &\\tau_{12} = \\frac{b\\,_{12}}{T} \\qquad \\tau_{21} = \\frac{b\\,_{21}}{T} \\\\\n",
    " &G_{12} =\\exp\\left(-\\alpha\\,\\tau_{12}\\right) \\qquad G_{21} =\\exp\\left(-\\alpha \\,\\tau_{21}\\right)\n",
    " \\end{aligned}\n",
    " $$\n",
    "\n",
    " El sistema de ecuaciones a resolver seria:\n",
    "\n",
    " $$\n",
    " \\begin{align*}\n",
    " P - \\gamma_1 (x_1, T) \\: P_1^\\text{sat}(T) = 0\\\\\n",
    " P - \\gamma_2 (x_1, T) \\: P_2^\\text{sat}(T) = 0  \n",
    " \\end{align*}\n",
    " $$\n",
    " \n",
    " Siendo las incognitas $x_1$ y $T$ "
   ]
  },
  {
   "cell_type": "code",
   "execution_count": 24,
   "metadata": {},
   "outputs": [],
   "source": [
    "\n",
    "def sistema_azeotropico(incognitas, bs_r, pressure, alpha, antoine):\n",
    "    \"\"\"\n",
    "    Calcula temperatura y composición en el punto azeotrópico.\n",
    "    input:\n",
    "        incognitas: los valores semillas de la composicion del compuesto 1\n",
    "                    y la temperatura en el punto azeotropico\n",
    "        bs_r: parametro energetico para comp12 y comp21, K\n",
    "        pressure: presion total de sistema, Pa\n",
    "        alpha: parametro de NRTL para sistema termodinamica, adim\n",
    "        antoine: parametros de ecuacion de Antoine\n",
    "    output:\n",
    "        f: composicion y temperatura en el punto azeotropico\n",
    "    \"\"\"\n",
    "    x1, temp = incognitas\n",
    "\n",
    "    taus = bs_r / temp         # tau12, tau21\n",
    "    \n",
    "    gs = np.exp(-alpha * taus) # G12, G21\n",
    "    \n",
    "    x = [x1, 1 - x1]           # Composicion 1, Composicion 2\n",
    "    \n",
    "    ln_gamma = []\n",
    "    psats = []\n",
    "    for i in range(len(x)):\n",
    "        ln_gamma.append(x[1-i]**2 * (taus[1-i] * (gs[1-i]/(x[i] + x[1-i] * gs[1-i]))**2 + \n",
    "                                     taus[i] * gs[i] / (x[1-i] + x[i] * gs[i])**2))\n",
    "        psats.append(psat(temp, antoine[i+1]))\n",
    "    \n",
    "    f = pressure - np.exp(ln_gamma) * np.array(psats)\n",
    "    \n",
    "    return f"
   ]
  },
  {
   "cell_type": "markdown",
   "metadata": {},
   "source": [
    "Como semillas consideramos que la fraccion del azeótropo es 0.5 y la temperatura del sistema debe ser menor que la temperatura de saturacion del componente mas volatil"
   ]
  },
  {
   "cell_type": "code",
   "execution_count": 25,
   "metadata": {},
   "outputs": [
    {
     "name": "stdout",
     "output_type": "stream",
     "text": [
      "La temperatura de saturación del acetonitrilo (1) es 354.208 K, mientras que la del n-heptano (2) es 371.276 K \n",
      "cuando la presion del sistema es igual a 1 bar\n"
     ]
    }
   ],
   "source": [
    "Tsat1, Tsat2 = Tsats\n",
    "print(\"La temperatura de saturación del acetonitrilo (1) es {:.3f} K, \"\n",
    "     \"mientras que la del n-heptano (2) es {:.3f} K \\ncuando la presion \"\n",
    "     \"del sistema es igual a {:.0f} bar\".format(Tsat1, Tsat2, Pressure/1e5))"
   ]
  },
  {
   "cell_type": "code",
   "execution_count": 26,
   "metadata": {},
   "outputs": [
    {
     "name": "stdout",
     "output_type": "stream",
     "text": [
      "El punto azeotrópico ocurre a una fraccion molar de 0.644 y una temperatura de 341.85 K\n"
     ]
    }
   ],
   "source": [
    "valores_semillas = (0.5, Tsats[0] * .9)\n",
    "x1_azeotropo, Temp_azeotropo = fsolve(sistema_azeotropico, valores_semillas, \n",
    "                                      args=(bs_R, Pressure, alpha, Antoine))\n",
    "\n",
    "print('El punto azeotrópico ocurre a una fraccion molar de {:.3f} y una '\n",
    "      'temperatura de {:.2f} K'.format(x1_azeotropo, Temp_azeotropo))"
   ]
  },
  {
   "cell_type": "markdown",
   "metadata": {},
   "source": [
    "## Determinación de temperatura de operación del flash\n",
    "\n",
    "Como se conoce la fracción del acetonitrilo (1) en la fase vapor, el problema se reduce a resolver el mismo sistema de ecuaciones anteriores con la diferencia que se debe anadir la composicion en la fase vapor como argumento:\n",
    "\n",
    "\\begin{align*}\n",
    "&y_1 \\, P - \\gamma_1 (x_1, T) \\: P_1^\\text{sat}(T) \\, x_1 = 0\\\\\n",
    "&(1 - y_1) \\, P - \\gamma_2 (x_1, T) \\: P_2^\\text{sat}(T) \\, (1 - x_1) = 0  \n",
    "\\end{align*}\n",
    "\n",
    "Siendo las incognitas $x_1$ y $T$\n",
    "\n",
    "Con respecto a los valores semillas, tanto la composicion del componente 1 en la fase liquida debe ser menor que la del punto azeotropico, mientras que la temperatura del sistema deben ser mayor.\n",
    "\n",
    "De esta manera, supondremos que x1 es el 10% de la composicion del punto azeotropico y la temperatura de operacion sera un 20% mayor"
   ]
  },
  {
   "cell_type": "code",
   "execution_count": 27,
   "metadata": {},
   "outputs": [],
   "source": [
    "def sistema_flash(incognitas, composicion_vapor, bs_r, pressure, alpha, antoine):\n",
    "    \"\"\"\n",
    "    Calcula temperatura y composición en el punto azeotrópico.\n",
    "    input:\n",
    "        incognitas: los valores semillas de la composicion del compuesto 1\n",
    "                    y la temperatura en equilibrio\n",
    "        composicion_vapor: composicion del componente 1 en la fase vapor\n",
    "        bs_r: parametro energetico para comp12 y comp21, K\n",
    "        pressure: presion total de sistema, Pa\n",
    "        alpha: parametro de NRTL para sistema termodinamica, adim\n",
    "        antoine: parametros de ecuacion de Antoine\n",
    "    output:\n",
    "        f: composicion y temperatura en equilibrio de fases\n",
    "    \"\"\"\n",
    "    x1, temp = incognitas\n",
    "\n",
    "    taus = bs_r / temp         # tau12, tau21\n",
    "    \n",
    "    gs = np.exp(-alpha * taus) # G12, G21\n",
    "    \n",
    "    x = np.array([x1, 1 - x1])           # Composicion 1, Composicion 2\n",
    "    y = np.array([composicion_vapor, 1 - composicion_vapor])\n",
    "    \n",
    "    ln_gamma = []\n",
    "    psats = []\n",
    "    for i in range(len(x)):\n",
    "        ln_gamma.append(x[1-i]**2 * (taus[1-i] * (gs[1-i]/(x[i] + x[1-i] * gs[1-i]))**2 + \n",
    "                                     taus[i] * gs[i] / (x[1-i] + x[i] * gs[i])**2))\n",
    "        psats.append(psat(temp, antoine[i+1]))\n",
    "    \n",
    "    f = y * pressure - x * np.exp(ln_gamma) * np.array(psats)\n",
    "    \n",
    "    return f"
   ]
  },
  {
   "cell_type": "code",
   "execution_count": 28,
   "metadata": {},
   "outputs": [
    {
     "name": "stdout",
     "output_type": "stream",
     "text": [
      "Si el flash opera a 348.59 K\n",
      "se obtendra una composicion de 1 en la fase liquida de 9.26%\n"
     ]
    }
   ],
   "source": [
    "y1 = 0.85 * x1_azeotropo\n",
    "valores_semillas = np.array([x1_azeotropo, Temp_azeotropo]) * [0.1, 1.2]\n",
    "\n",
    "x1_flash, Temp_flash = fsolve(sistema_flash, valores_semillas, args=(y1, bs_R, Pressure, alpha, Antoine))\n",
    "\n",
    "print(('Si el flash opera a {:.2f} K\\n'\n",
    "       'se obtendra una composicion de 1 en la fase liquida de {:.2f}%').format(Temp_flash, x1_flash*100))\n"
   ]
  },
  {
   "cell_type": "code",
   "execution_count": null,
   "metadata": {},
   "outputs": [],
   "source": []
  }
 ],
 "metadata": {
  "kernelspec": {
   "display_name": "Python 3.8.13 ('base')",
   "language": "python",
   "name": "python3"
  },
  "language_info": {
   "codemirror_mode": {
    "name": "ipython",
    "version": 3
   },
   "file_extension": ".py",
   "mimetype": "text/x-python",
   "name": "python",
   "nbconvert_exporter": "python",
   "pygments_lexer": "ipython3",
   "version": "3.8.13"
  },
  "orig_nbformat": 4,
  "vscode": {
   "interpreter": {
    "hash": "1c30720ad38499d80e168609025d05c859feb4a0331a899893557630c803b723"
   }
  }
 },
 "nbformat": 4,
 "nbformat_minor": 2
}
